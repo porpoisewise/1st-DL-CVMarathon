{
 "cells": [
  {
   "cell_type": "markdown",
   "metadata": {},
   "source": [
    "## 『本次練習內容』\n",
    "#### 運用這幾天所學觀念搭建一個CNN分類器"
   ]
  },
  {
   "cell_type": "markdown",
   "metadata": {},
   "source": [
    "## 『本次練習目的』\n",
    "  #### 熟悉CNN分類器搭建步驟與原理\n",
    "  #### 學員們可以嘗試不同搭法，如使用不同的Maxpooling層，用GlobalAveragePooling取代Flatten等等"
   ]
  },
  {
   "cell_type": "code",
   "execution_count": 1,
   "metadata": {},
   "outputs": [
    {
     "name": "stderr",
     "output_type": "stream",
     "text": [
      "Using TensorFlow backend.\n"
     ]
    }
   ],
   "source": [
    "from keras.models import Sequential\n",
    "from keras.layers import Convolution2D\n",
    "from keras.layers import MaxPooling2D\n",
    "from keras.layers import Flatten\n",
    "from keras.layers import Dense\n",
    "from keras.layers import Dropout\n",
    "from keras.layers import BatchNormalization\n",
    "from keras.datasets import cifar10\n",
    "import numpy as np\n",
    "import tensorflow as tf\n",
    "from sklearn.preprocessing import OneHotEncoder\n"
   ]
  },
  {
   "cell_type": "code",
   "execution_count": 2,
   "metadata": {},
   "outputs": [
    {
     "name": "stdout",
     "output_type": "stream",
     "text": [
      "(50000, 32, 32, 3)\n"
     ]
    }
   ],
   "source": [
    "(x_train, y_train), (x_test, y_test) = cifar10.load_data()\n",
    "\n",
    "print(x_train.shape) #(50000, 32, 32, 3)\n",
    "\n",
    "## Normalize Data\n",
    "def normalize(X_train,X_test):\n",
    "        mean = np.mean(X_train,axis=(0,1,2,3))\n",
    "        std = np.std(X_train, axis=(0, 1, 2, 3))\n",
    "        X_train = (X_train-mean)/(std+1e-7)\n",
    "        X_test = (X_test-mean)/(std+1e-7) \n",
    "        return X_train, X_test,mean,std\n",
    "    \n",
    "    \n",
    "## Normalize Training and Testset    \n",
    "x_train, x_test,mean_train,std_train = normalize(x_train, x_test) "
   ]
  },
  {
   "cell_type": "code",
   "execution_count": 3,
   "metadata": {},
   "outputs": [],
   "source": [
    "## OneHot Label 由(None, 1)-(None, 10)\n",
    "## ex. label=2,變成[0,0,1,0,0,0,0,0,0,0]\n",
    "one_hot=OneHotEncoder()\n",
    "y_train=one_hot.fit_transform(y_train).toarray()\n",
    "y_test=one_hot.transform(y_test).toarray()"
   ]
  },
  {
   "cell_type": "code",
   "execution_count": 5,
   "metadata": {},
   "outputs": [
    {
     "name": "stderr",
     "output_type": "stream",
     "text": [
      "C:\\Users\\Crystal\\Anaconda3\\envs\\keras37\\lib\\site-packages\\ipykernel_launcher.py:20: UserWarning: Update your `Dense` call to the Keras 2 API: `Dense(activation=\"relu\", units=10)`\n"
     ]
    },
    {
     "name": "stdout",
     "output_type": "stream",
     "text": [
      "Epoch 1/100\n",
      "50000/50000 [==============================] - 50s 1ms/step - loss: 2.1288 - accuracy: 0.2745\n",
      "Epoch 2/100\n",
      "50000/50000 [==============================] - 47s 942us/step - loss: 1.9753 - accuracy: 0.3131\n",
      "Epoch 3/100\n",
      "50000/50000 [==============================] - 47s 937us/step - loss: 1.9258 - accuracy: 0.3317\n",
      "Epoch 4/100\n",
      "50000/50000 [==============================] - 46s 924us/step - loss: 1.8723 - accuracy: 0.3606\n",
      "Epoch 5/100\n",
      "50000/50000 [==============================] - 46s 919us/step - loss: 1.8343 - accuracy: 0.3819\n",
      "Epoch 6/100\n",
      "50000/50000 [==============================] - 46s 921us/step - loss: 1.8968 - accuracy: 0.3437\n",
      "Epoch 7/100\n",
      "50000/50000 [==============================] - 46s 920us/step - loss: 1.8651 - accuracy: 0.3511s - loss: 1.8660 - accura\n",
      "Epoch 8/100\n",
      "50000/50000 [==============================] - 46s 920us/step - loss: 1.7541 - accuracy: 0.4092\n",
      "Epoch 9/100\n",
      "50000/50000 [==============================] - 46s 924us/step - loss: 1.7003 - accuracy: 0.4270\n",
      "Epoch 10/100\n",
      "50000/50000 [==============================] - 46s 924us/step - loss: 1.7528 - accuracy: 0.4227s -\n",
      "Epoch 11/100\n",
      "50000/50000 [==============================] - 46s 926us/step - loss: 1.7762 - accuracy: 0.4099s - loss: 1.7733 - accuracy\n",
      "Epoch 12/100\n",
      "50000/50000 [==============================] - 46s 925us/step - loss: 1.7974 - accuracy: 0.3769\n",
      "Epoch 13/100\n",
      "50000/50000 [==============================] - 46s 925us/step - loss: 1.6753 - accuracy: 0.4403\n",
      "Epoch 14/100\n",
      "50000/50000 [==============================] - 46s 926us/step - loss: 1.6333 - accuracy: 0.4634\n",
      "Epoch 15/100\n",
      "50000/50000 [==============================] - 47s 931us/step - loss: 1.8125 - accuracy: 0.4175\n",
      "Epoch 16/100\n",
      "50000/50000 [==============================] - 46s 928us/step - loss: 1.7265 - accuracy: 0.3947\n",
      "Epoch 17/100\n",
      "50000/50000 [==============================] - 46s 929us/step - loss: 1.6612 - accuracy: 0.4376\n",
      "Epoch 18/100\n",
      "50000/50000 [==============================] - 46s 928us/step - loss: 1.6989 - accuracy: 0.4415\n",
      "Epoch 19/100\n",
      "50000/50000 [==============================] - 46s 929us/step - loss: 1.7345 - accuracy: 0.3935\n",
      "Epoch 20/100\n",
      "50000/50000 [==============================] - 46s 930us/step - loss: 1.6105 - accuracy: 0.4505\n",
      "Epoch 21/100\n",
      "50000/50000 [==============================] - 47s 930us/step - loss: 1.5676 - accuracy: 0.4753\n",
      "Epoch 22/100\n",
      "50000/50000 [==============================] - 47s 931us/step - loss: 1.6794 - accuracy: 0.4144\n",
      "Epoch 23/100\n",
      "50000/50000 [==============================] - 47s 931us/step - loss: 1.6181 - accuracy: 0.4414\n",
      "Epoch 24/100\n",
      "50000/50000 [==============================] - 47s 934us/step - loss: 1.5294 - accuracy: 0.4849s - loss: 1.5293 - accura\n",
      "Epoch 25/100\n",
      "50000/50000 [==============================] - 47s 935us/step - loss: 1.5591 - accuracy: 0.4789\n",
      "Epoch 26/100\n",
      "50000/50000 [==============================] - 47s 935us/step - loss: 1.6934 - accuracy: 0.4153\n",
      "Epoch 27/100\n",
      "50000/50000 [==============================] - 47s 935us/step - loss: 1.5942 - accuracy: 0.4476\n",
      "Epoch 28/100\n",
      "50000/50000 [==============================] - 47s 935us/step - loss: 1.7683 - accuracy: 0.3933\n",
      "Epoch 29/100\n",
      "50000/50000 [==============================] - 47s 935us/step - loss: 1.6706 - accuracy: 0.4255\n",
      "Epoch 30/100\n",
      "50000/50000 [==============================] - 47s 935us/step - loss: 1.6148 - accuracy: 0.4581\n",
      "Epoch 31/100\n",
      "50000/50000 [==============================] - 47s 935us/step - loss: 1.5678 - accuracy: 0.4733\n",
      "Epoch 32/100\n",
      "50000/50000 [==============================] - 47s 935us/step - loss: 1.5359 - accuracy: 0.4887\n",
      "Epoch 33/100\n",
      "50000/50000 [==============================] - 47s 935us/step - loss: 1.5105 - accuracy: 0.5019\n",
      "Epoch 34/100\n",
      "50000/50000 [==============================] - 47s 936us/step - loss: 1.4795 - accuracy: 0.5140\n",
      "Epoch 35/100\n",
      "50000/50000 [==============================] - 47s 937us/step - loss: 1.5033 - accuracy: 0.5016\n",
      "Epoch 36/100\n",
      "50000/50000 [==============================] - 47s 936us/step - loss: 1.5055 - accuracy: 0.5080\n",
      "Epoch 37/100\n",
      "50000/50000 [==============================] - 47s 936us/step - loss: 1.5025 - accuracy: 0.5008\n",
      "Epoch 38/100\n",
      "50000/50000 [==============================] - 47s 936us/step - loss: 1.4936 - accuracy: 0.5024s - loss:\n",
      "Epoch 39/100\n",
      "50000/50000 [==============================] - 47s 936us/step - loss: 1.4846 - accuracy: 0.5098\n",
      "Epoch 40/100\n",
      "50000/50000 [==============================] - 47s 936us/step - loss: 1.4399 - accuracy: 0.5237\n",
      "Epoch 41/100\n",
      "50000/50000 [==============================] - 47s 937us/step - loss: 1.4569 - accuracy: 0.5189\n",
      "Epoch 42/100\n",
      "50000/50000 [==============================] - 47s 939us/step - loss: 1.4998 - accuracy: 0.5155\n",
      "Epoch 43/100\n",
      "50000/50000 [==============================] - 47s 942us/step - loss: 1.5819 - accuracy: 0.4887s - loss: 1\n",
      "Epoch 44/100\n",
      "50000/50000 [==============================] - 47s 941us/step - loss: 1.4379 - accuracy: 0.5166\n",
      "Epoch 45/100\n",
      "50000/50000 [==============================] - 47s 941us/step - loss: 1.5903 - accuracy: 0.4791\n",
      "Epoch 46/100\n",
      "50000/50000 [==============================] - 47s 941us/step - loss: 1.4731 - accuracy: 0.5174\n",
      "Epoch 47/100\n",
      "50000/50000 [==============================] - 47s 942us/step - loss: 1.4220 - accuracy: 0.5298\n",
      "Epoch 48/100\n",
      "50000/50000 [==============================] - 47s 941us/step - loss: 1.6616 - accuracy: 0.4553\n",
      "Epoch 49/100\n",
      "50000/50000 [==============================] - 47s 941us/step - loss: 1.6982 - accuracy: 0.4393\n",
      "Epoch 50/100\n",
      "50000/50000 [==============================] - 47s 941us/step - loss: 1.6586 - accuracy: 0.4339\n",
      "Epoch 51/100\n",
      "50000/50000 [==============================] - 47s 941us/step - loss: 1.5625 - accuracy: 0.4854\n",
      "Epoch 52/100\n",
      "50000/50000 [==============================] - 47s 941us/step - loss: 1.5016 - accuracy: 0.5001\n",
      "Epoch 53/100\n",
      "50000/50000 [==============================] - 47s 942us/step - loss: 1.5487 - accuracy: 0.4858\n",
      "Epoch 54/100\n",
      "50000/50000 [==============================] - 47s 942us/step - loss: 1.5402 - accuracy: 0.4951\n",
      "Epoch 55/100\n",
      "50000/50000 [==============================] - 47s 942us/step - loss: 1.4567 - accuracy: 0.5214\n",
      "Epoch 56/100\n",
      "50000/50000 [==============================] - 47s 941us/step - loss: 1.4286 - accuracy: 0.5314\n",
      "Epoch 57/100\n",
      "50000/50000 [==============================] - 47s 941us/step - loss: 1.3918 - accuracy: 0.5490\n",
      "Epoch 58/100\n",
      "50000/50000 [==============================] - 47s 941us/step - loss: 1.4357 - accuracy: 0.5319s - loss: 1.4346 - accu\n",
      "Epoch 59/100\n",
      "50000/50000 [==============================] - 47s 942us/step - loss: 1.4196 - accuracy: 0.5379\n",
      "Epoch 60/100\n",
      "50000/50000 [==============================] - 47s 942us/step - loss: 1.3870 - accuracy: 0.5502\n",
      "Epoch 61/100\n",
      "50000/50000 [==============================] - 47s 942us/step - loss: 1.4711 - accuracy: 0.5251\n",
      "Epoch 62/100\n",
      "50000/50000 [==============================] - 47s 942us/step - loss: 1.5029 - accuracy: 0.4765s - loss: 1.503\n",
      "Epoch 63/100\n",
      "50000/50000 [==============================] - 47s 942us/step - loss: 1.4377 - accuracy: 0.5177\n",
      "Epoch 64/100\n",
      "50000/50000 [==============================] - 47s 942us/step - loss: 1.4484 - accuracy: 0.5216\n",
      "Epoch 65/100\n",
      "50000/50000 [==============================] - 47s 942us/step - loss: 1.4136 - accuracy: 0.5369\n",
      "Epoch 66/100\n",
      "50000/50000 [==============================] - 47s 942us/step - loss: 1.3459 - accuracy: 0.5549s - loss: -\n",
      "Epoch 67/100\n",
      "50000/50000 [==============================] - 47s 942us/step - loss: 1.3545 - accuracy: 0.5450\n",
      "Epoch 68/100\n",
      "50000/50000 [==============================] - 48s 953us/step - loss: 1.2995 - accuracy: 0.5711\n",
      "Epoch 69/100\n",
      "50000/50000 [==============================] - 48s 957us/step - loss: 1.3797 - accuracy: 0.5346\n",
      "Epoch 70/100\n",
      "50000/50000 [==============================] - 47s 942us/step - loss: 1.3736 - accuracy: 0.5291\n",
      "Epoch 71/100\n",
      "50000/50000 [==============================] - 47s 943us/step - loss: 1.3414 - accuracy: 0.5519\n",
      "Epoch 72/100\n",
      "50000/50000 [==============================] - 47s 946us/step - loss: 1.3246 - accuracy: 0.5613\n",
      "Epoch 73/100\n",
      "50000/50000 [==============================] - 47s 943us/step - loss: 1.2559 - accuracy: 0.5842\n",
      "Epoch 74/100\n"
     ]
    },
    {
     "name": "stdout",
     "output_type": "stream",
     "text": [
      "50000/50000 [==============================] - 48s 964us/step - loss: 1.3373 - accuracy: 0.5619\n",
      "Epoch 75/100\n",
      "50000/50000 [==============================] - 48s 958us/step - loss: 1.2633 - accuracy: 0.5878\n",
      "Epoch 76/100\n",
      "50000/50000 [==============================] - 49s 971us/step - loss: 1.2284 - accuracy: 0.5981\n",
      "Epoch 77/100\n",
      "50000/50000 [==============================] - 48s 958us/step - loss: 1.2697 - accuracy: 0.5878\n",
      "Epoch 78/100\n",
      "50000/50000 [==============================] - 49s 982us/step - loss: 1.3078 - accuracy: 0.5788\n",
      "Epoch 79/100\n",
      "50000/50000 [==============================] - 48s 956us/step - loss: 1.1930 - accuracy: 0.6122\n",
      "Epoch 80/100\n",
      "50000/50000 [==============================] - 48s 962us/step - loss: 1.2269 - accuracy: 0.5952\n",
      "Epoch 81/100\n",
      "50000/50000 [==============================] - 48s 965us/step - loss: 1.1860 - accuracy: 0.6139\n",
      "Epoch 82/100\n",
      "50000/50000 [==============================] - 47s 944us/step - loss: 1.1687 - accuracy: 0.6244\n",
      "Epoch 83/100\n",
      "50000/50000 [==============================] - 48s 962us/step - loss: 1.2224 - accuracy: 0.6098\n",
      "Epoch 84/100\n",
      "50000/50000 [==============================] - 47s 945us/step - loss: 1.1900 - accuracy: 0.6192\n",
      "Epoch 85/100\n",
      "50000/50000 [==============================] - 48s 966us/step - loss: 1.2331 - accuracy: 0.6037\n",
      "Epoch 86/100\n",
      "50000/50000 [==============================] - 49s 988us/step - loss: 1.4392 - accuracy: 0.5643\n",
      "Epoch 87/100\n",
      "50000/50000 [==============================] - 48s 969us/step - loss: 1.2723 - accuracy: 0.5989\n",
      "Epoch 88/100\n",
      "50000/50000 [==============================] - 47s 948us/step - loss: 1.2197 - accuracy: 0.6139\n",
      "Epoch 89/100\n",
      "50000/50000 [==============================] - 48s 959us/step - loss: 1.2430 - accuracy: 0.6019\n",
      "Epoch 90/100\n",
      "50000/50000 [==============================] - 49s 972us/step - loss: 1.1985 - accuracy: 0.6119\n",
      "Epoch 91/100\n",
      "50000/50000 [==============================] - 48s 960us/step - loss: 1.1784 - accuracy: 0.6175\n",
      "Epoch 92/100\n",
      "50000/50000 [==============================] - 49s 972us/step - loss: 1.3630 - accuracy: 0.5920\n",
      "Epoch 93/100\n",
      "50000/50000 [==============================] - 48s 967us/step - loss: 1.2935 - accuracy: 0.5994\n",
      "Epoch 94/100\n",
      "50000/50000 [==============================] - 49s 978us/step - loss: 1.2962 - accuracy: 0.5750\n",
      "Epoch 95/100\n",
      "50000/50000 [==============================] - 49s 978us/step - loss: 1.2883 - accuracy: 0.5606\n",
      "Epoch 96/100\n",
      "50000/50000 [==============================] - 48s 968us/step - loss: 1.2042 - accuracy: 0.6061s - loss: 1.2044 \n",
      "Epoch 97/100\n",
      "50000/50000 [==============================] - 49s 984us/step - loss: 1.1438 - accuracy: 0.6251\n",
      "Epoch 98/100\n",
      "50000/50000 [==============================] - 49s 980us/step - loss: 1.1149 - accuracy: 0.6351\n",
      "Epoch 99/100\n",
      "50000/50000 [==============================] - 49s 970us/step - loss: 1.0986 - accuracy: 0.6416\n",
      "Epoch 100/100\n",
      "50000/50000 [==============================] - 48s 954us/step - loss: 1.1317 - accuracy: 0.6224\n"
     ]
    },
    {
     "data": {
      "text/plain": [
       "<keras.callbacks.callbacks.History at 0x195e1df9ac8>"
      ]
     },
     "execution_count": 5,
     "metadata": {},
     "output_type": "execute_result"
    }
   ],
   "source": [
    "\n",
    "classifier=Sequential()\n",
    "\n",
    "#卷積組合\n",
    "classifier.add(Convolution2D(filters=32, kernel_size=(5,5), padding='same', input_shape = (32, 32, 3)))#32,3,3,input_shape=(32,32,3),activation='relu''\n",
    "classifier.add(BatchNormalization(momentum=0.89, epsilon=0.003))\n",
    "\n",
    "#卷積組合\n",
    "classifier.add(Convolution2D(filters=32, kernel_size=(5,5)))\n",
    "classifier.add(BatchNormalization(momentum=0.89, epsilon=0.003))\n",
    "\n",
    "classifier.add(MaxPooling2D(pool_size=(2,2)))\n",
    "\n",
    "#flatten\n",
    "classifier.add(Flatten())\n",
    "\n",
    "#FC\n",
    "classifier.add(Dense(256, activation='relu')) #output_dim=100,activation=relu\n",
    "\n",
    "#輸出\n",
    "classifier.add(Dense(output_dim=10,activation='relu'))\n",
    "\n",
    "#超過兩個就要選categorical_crossentrophy\n",
    "classifier.compile(optimizer = 'adam', loss = 'categorical_crossentropy', metrics = ['accuracy'])\n",
    "classifier.fit(x_train,y_train,batch_size=100,epochs=100)"
   ]
  },
  {
   "cell_type": "markdown",
   "metadata": {},
   "source": [
    "## 預測新圖片，輸入影像前處理要與訓練時相同\n",
    "#### ((X-mean)/(std+1e-7) ):這裡的mean跟std是訓練集的\n",
    "## 維度如下方示範"
   ]
  },
  {
   "cell_type": "code",
   "execution_count": 6,
   "metadata": {},
   "outputs": [
    {
     "data": {
      "text/plain": [
       "array([[ 181.32115,    0.     , 1169.2032 , 1229.8187 ,  941.77124,\n",
       "         327.15726,  215.60228,  106.76661,    0.     ,    0.     ]],\n",
       "      dtype=float32)"
      ]
     },
     "execution_count": 6,
     "metadata": {},
     "output_type": "execute_result"
    }
   ],
   "source": [
    "input_example=(np.zeros(shape=(1,32,32,3))-mean_train)/(std_train+1e-7) \n",
    "classifier.predict(input_example)"
   ]
  },
  {
   "cell_type": "code",
   "execution_count": null,
   "metadata": {},
   "outputs": [],
   "source": []
  }
 ],
 "metadata": {
  "kernelspec": {
   "display_name": "Python 3",
   "language": "python",
   "name": "python3"
  },
  "language_info": {
   "codemirror_mode": {
    "name": "ipython",
    "version": 3
   },
   "file_extension": ".py",
   "mimetype": "text/x-python",
   "name": "python",
   "nbconvert_exporter": "python",
   "pygments_lexer": "ipython3",
   "version": "3.7.5"
  }
 },
 "nbformat": 4,
 "nbformat_minor": 2
}
